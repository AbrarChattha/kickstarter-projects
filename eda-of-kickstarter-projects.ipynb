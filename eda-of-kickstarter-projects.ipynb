{
 "cells": [
  {
   "cell_type": "markdown",
   "metadata": {
    "_uuid": "d0904d46e8055ee43df8255e93f3f854fab4954d"
   },
   "source": [
    "**EDA of Kickstarter Projects**\n",
    "\n",
    "Kickstarter is an American public-benefit corporation based in Brooklyn, New York, that maintains a global crowdfunding platform focused on creativity and merchandising. The company's stated mission is to \"help bring creative projects to life\"\n",
    "\n",
    "In this exploratory data analysis I will try to find out a few interesting insights."
   ]
  },
  {
   "cell_type": "code",
   "execution_count": null,
   "metadata": {
    "_cell_guid": "b1076dfc-b9ad-4769-8c92-a6c4dae69d19",
    "_uuid": "8f2839f25d086af736a60e9eeb907d3b93b6e0e5"
   },
   "outputs": [],
   "source": [
    "# This Python 3 environment comes with many helpful analytics libraries installed\n",
    "# It is defined by the kaggle/python docker image: https://github.com/kaggle/docker-python\n",
    "# For example, here's several helpful packages to load in \n",
    "\n",
    "import numpy as np # linear algebra\n",
    "import pandas as pd # data processing, CSV file I/O (e.g. pd.read_csv)\n",
    "\n",
    "# Input data files are available in the \"../input/\" directory.\n",
    "# For example, running this (by clicking run or pressing Shift+Enter) will list the files in the input directory\n",
    "\n",
    "import os\n",
    "print(os.listdir(\"../input\"))\n",
    "\n",
    "# Any results you write to the current directory are saved as output."
   ]
  },
  {
   "cell_type": "code",
   "execution_count": null,
   "metadata": {
    "_cell_guid": "79c7e3d0-c299-4dcb-8224-4455121ee9b0",
    "_uuid": "d629ff2d2480ee46fbb7e2d37f6b5fab8052498a"
   },
   "outputs": [],
   "source": [
    "import pandas as pd\n",
    "import matplotlib.pyplot as plt\n",
    "import seaborn as sns\n",
    "%matplotlib inline\n",
    "import plotly\n",
    "from plotly import tools\n",
    "from plotly.offline import init_notebook_mode, iplot\n",
    "import plotly.graph_objs as go\n",
    "init_notebook_mode(connected=True)\n",
    "import warnings\n",
    "warnings.filterwarnings('ignore')"
   ]
  },
  {
   "cell_type": "markdown",
   "metadata": {
    "_uuid": "5452b857770cfb1b85efed3045d6daafd134917c"
   },
   "source": [
    "Lets import the dataset, parse the date and time properly and display the first 4 rows to get an idea of the kind of data there is"
   ]
  },
  {
   "cell_type": "code",
   "execution_count": null,
   "metadata": {
    "_kg_hide-input": false,
    "_kg_hide-output": false,
    "_uuid": "15d3b0e5e33f8f1873144ce970060748f5511ac6"
   },
   "outputs": [],
   "source": [
    "original = pd.read_csv('../input/ks-projects-201801.csv')\n",
    "original['deadline']=pd.to_datetime(original['deadline'], format=\"%Y/%m/%d\").dt.date\n",
    "original['launched']=pd.to_datetime(original['launched'], format=\"%Y/%m/%d\").dt.date\n",
    "original.head(4)"
   ]
  },
  {
   "cell_type": "code",
   "execution_count": null,
   "metadata": {
    "_uuid": "63e96d682ff3a8f26115ee7078a44b6f6c58d0c7"
   },
   "outputs": [],
   "source": [
    "df = original.drop(['ID','goal','pledged','usd_pledged_real'],1)\n",
    "df['duration(days)'] = (df['deadline'] - df['launched']).dt.days\n",
    "df['launch_year']=pd.to_datetime(original['launched'], format=\"%Y/%m/%d\").dt.year\n",
    "df.head()"
   ]
  },
  {
   "cell_type": "markdown",
   "metadata": {
    "_uuid": "32c7ac1fa1111c6ad04b3b521af8012c05bb0205"
   },
   "source": [
    "**Distribution of States**"
   ]
  },
  {
   "cell_type": "code",
   "execution_count": null,
   "metadata": {
    "_uuid": "0f74e477fc7d31bed364923ef044c7521712240d"
   },
   "outputs": [],
   "source": [
    "state_count = df.state.value_counts()\n",
    "go1 = go.Bar(\n",
    "            x=state_count.index,\n",
    "            y=state_count.values,\n",
    "            marker=dict(\n",
    "                color='rgb(158,202,225)',\n",
    "                line=dict(\n",
    "                    color='rgb(8,48,107)',\n",
    "                    width=1.5),\n",
    "            ),\n",
    "            opacity=0.6\n",
    "        )\n",
    "\n",
    "data = [go1]\n",
    "layout=go.Layout(title=\"Distribution of States\", xaxis={'title':'State'}, yaxis={'title':'No of Campaigns'}, width=600, height=400)\n",
    "figure=go.Figure(data=data,layout=layout)\n",
    "iplot(figure)"
   ]
  },
  {
   "cell_type": "markdown",
   "metadata": {
    "_uuid": "fd5bda3f8b4124dc01b407cc5730b9683cbfd6ab"
   },
   "source": [
    "**Distribution of Main Categories**"
   ]
  },
  {
   "cell_type": "code",
   "execution_count": null,
   "metadata": {
    "_uuid": "9132f19005b46c8a2b785eaf436f54e8fb1f27cb"
   },
   "outputs": [],
   "source": [
    "go1 = go.Bar(\n",
    "            x=df.main_category.value_counts().index,\n",
    "            y=df.main_category.value_counts().values,\n",
    "            marker=dict(\n",
    "                color='rgb(158,202,225)',\n",
    "                line=dict(\n",
    "                    color='rgb(8,48,107)',\n",
    "                    width=1.5),\n",
    "            ),\n",
    "            opacity=0.6\n",
    "        )\n",
    "\n",
    "data = [go1]\n",
    "layout=go.Layout(title=\"Distribution of Main Categories\", xaxis={'title':'Main Category'}, yaxis={'title':'No of Campaigns'}, width=600, height=400)\n",
    "figure=go.Figure(data=data,layout=layout)\n",
    "iplot(figure)"
   ]
  },
  {
   "cell_type": "markdown",
   "metadata": {
    "_uuid": "397682c58759d60938660e2266509384cb55d797"
   },
   "source": [
    "**Distribution of Top 20 Categories**\n",
    "\n",
    "(I only did for top 20 because there are way too many categories to fit properly in this visualization)"
   ]
  },
  {
   "cell_type": "code",
   "execution_count": null,
   "metadata": {
    "_uuid": "26409d20dfea5dad9c8f6f6bc57ebcbc04c257d2"
   },
   "outputs": [],
   "source": [
    "go1 = go.Bar(\n",
    "            x=df.category.value_counts()[:20].index,\n",
    "            y=df.category.value_counts()[:20].values,\n",
    "            marker=dict(\n",
    "                color='rgb(158,202,225)',\n",
    "                line=dict(\n",
    "                    color='rgb(8,48,107)',\n",
    "                    width=1.5),\n",
    "            ),\n",
    "            opacity=0.6\n",
    "        )\n",
    "data = [go1]\n",
    "layout=go.Layout(title=\"Distribution of Top 20 Categories\", xaxis={'title':'Category'}, yaxis={'title':'No of Campaigns'}, width=600, height=400)\n",
    "figure=go.Figure(data=data,layout=layout)\n",
    "iplot(figure)"
   ]
  },
  {
   "cell_type": "markdown",
   "metadata": {
    "_uuid": "9c3f4aebded2e063d0504182fcbcaf0fd5726ca5"
   },
   "source": [
    "**Distribution of Countries**"
   ]
  },
  {
   "cell_type": "code",
   "execution_count": null,
   "metadata": {
    "_uuid": "a4f772c58940012265bd1703d964f7809113c8fa"
   },
   "outputs": [],
   "source": [
    "go1 = go.Bar(\n",
    "            x=df.country.value_counts().index,\n",
    "            y=df.country.value_counts().values,\n",
    "            marker=dict(\n",
    "                color='rgb(158,202,225)',\n",
    "                line=dict(\n",
    "                    color='rgb(8,48,107)',\n",
    "                    width=1.5),\n",
    "            ),\n",
    "            opacity=0.6\n",
    "        )\n",
    "data = [go1]\n",
    "layout=go.Layout(title=\"Distribution of Countries\", xaxis={'title':'Countries'}, yaxis={'title':'No of Campaigns'}, width=600, height=400)\n",
    "figure=go.Figure(data=data,layout=layout)\n",
    "iplot(figure)"
   ]
  },
  {
   "cell_type": "markdown",
   "metadata": {
    "_uuid": "0fc9882d5b24bb5559ff50944f1aece1f7b70c04"
   },
   "source": [
    "**Campaign Distribution over Years**"
   ]
  },
  {
   "cell_type": "code",
   "execution_count": null,
   "metadata": {
    "_uuid": "6a72794278496fe3f0f37cae708f2c903a796cee"
   },
   "outputs": [],
   "source": [
    "fig = sns.countplot(df.launch_year)\n",
    "plt.xlabel(\"Year\")\n",
    "plt.ylabel(\"Number of Campaigns\")\n",
    "plt.title(\"No of Campaigns vs Year\")\n",
    "plt.show(fig)"
   ]
  },
  {
   "cell_type": "markdown",
   "metadata": {
    "_uuid": "c03474e964f6fa5effc2dbc9af24c16a34421e3c"
   },
   "source": [
    "**Mean duration of Failed, Successful and Cancelled Campaigns**"
   ]
  },
  {
   "cell_type": "code",
   "execution_count": null,
   "metadata": {
    "_uuid": "741e350ef757e9c1c65974418771688e3d57186d"
   },
   "outputs": [],
   "source": [
    "failed = df.loc[df.state=='failed']\n",
    "successful = df.loc[df.state=='successful']\n",
    "canceled = df.loc[df.state=='canceled']\n",
    "print('Mean duration of failed campaigns',failed['duration(days)'].mean())\n",
    "print('Mean duration of successful campaigns',successful['duration(days)'].mean())\n",
    "print('Mean duration of canceled campaigns',canceled['duration(days)'].mean())"
   ]
  },
  {
   "cell_type": "markdown",
   "metadata": {
    "_uuid": "e2f2bbc6fc61fc1ad55ad6b7b374003c67acb6e2"
   },
   "source": [
    "**Distribution of main categories in Sucessful & Failed Campaigns**"
   ]
  },
  {
   "cell_type": "code",
   "execution_count": null,
   "metadata": {
    "_uuid": "9c20d1ec6d728ab82c236470c2b758a088eabc03"
   },
   "outputs": [],
   "source": [
    "trace1 = go.Bar(\n",
    "            x=successful.main_category.value_counts().index,\n",
    "            y=successful.main_category.value_counts().values,\n",
    "            opacity=0.65\n",
    "        )\n",
    "\n",
    "trace2 = go.Bar(\n",
    "            x=failed.main_category.value_counts().index,\n",
    "            y=failed.main_category.value_counts().values,\n",
    "            opacity=0.65\n",
    "        )\n",
    "\n",
    "fig = tools.make_subplots(rows=1, cols=2, subplot_titles=('Successful', 'Failed'))\n",
    "fig.append_trace(trace1, 1, 1)\n",
    "fig.append_trace(trace2, 1, 2)\n",
    "\n",
    "fig['layout'].update(height=300, width=900, title='Distribution of main categories in Sucessful & Failed Campaigns')\n",
    "\n",
    "iplot(fig)"
   ]
  },
  {
   "cell_type": "markdown",
   "metadata": {
    "_uuid": "d30d6e141d38ea34f1cd9b87e827f078e018164a"
   },
   "source": [
    "**Distribution of top 20 categories in Sucessful & Failed Campaigns**"
   ]
  },
  {
   "cell_type": "code",
   "execution_count": null,
   "metadata": {
    "_uuid": "084ee32ec8968977a477d44702b87314c32c18fc"
   },
   "outputs": [],
   "source": [
    "trace1 = go.Bar(\n",
    "            x=successful.category.value_counts()[:20].index,\n",
    "            y=successful.category.value_counts()[:20].values,\n",
    "            opacity=0.65\n",
    "        )\n",
    "\n",
    "trace2 = go.Bar(\n",
    "            x=failed.category.value_counts()[:20].index,\n",
    "            y=failed.category.value_counts()[:20].values,\n",
    "            opacity=0.65\n",
    "        )\n",
    "\n",
    "fig = tools.make_subplots(rows=1, cols=2, subplot_titles=('Successful', 'Failed'))\n",
    "fig.append_trace(trace1, 1, 1)\n",
    "fig.append_trace(trace2, 1, 2)\n",
    "\n",
    "fig['layout'].update(height=300, width=900, title='Distribution of top 20 categories in Sucessful & Failed Campaigns')\n",
    "\n",
    "iplot(fig)"
   ]
  },
  {
   "cell_type": "code",
   "execution_count": null,
   "metadata": {
    "_uuid": "a32e97cd29560a798ecf031a61fe9b931e870f7e"
   },
   "outputs": [],
   "source": [
    "groupby_main_category = successful.groupby(['main_category']).mean()\n",
    "groupby_main_category"
   ]
  },
  {
   "cell_type": "markdown",
   "metadata": {
    "_uuid": "ee20f50721c7233e6a51da3d06b4c06a3ca27861"
   },
   "source": [
    "**Distribution of Backers, Amount Pledged(USD), Goal of Campaign(USD), Duration(Days) according to Main Category of Successful Campaigns**"
   ]
  },
  {
   "cell_type": "code",
   "execution_count": null,
   "metadata": {
    "_uuid": "46e8c589935f2ad28099fce021fc98d5111073c8"
   },
   "outputs": [],
   "source": [
    "trace1 = go.Bar(\n",
    "            x=groupby_main_category.backers.index,\n",
    "            y=groupby_main_category.backers.values,\n",
    "            opacity=0.65\n",
    "        )\n",
    "\n",
    "trace2 = go.Bar(\n",
    "            x=groupby_main_category['usd pledged'].index,\n",
    "            y=groupby_main_category['usd pledged'].values,\n",
    "            opacity=0.65\n",
    "        )\n",
    "\n",
    "trace3 = go.Bar(\n",
    "            x=groupby_main_category.usd_goal_real.index,\n",
    "            y=groupby_main_category.usd_goal_real.values,\n",
    "            opacity=0.65\n",
    "        )\n",
    "\n",
    "trace4 = go.Bar(\n",
    "            x=groupby_main_category['duration(days)'].index,\n",
    "            y=groupby_main_category['duration(days)'].values,\n",
    "            opacity=0.65\n",
    "        )\n",
    "\n",
    "fig = tools.make_subplots(rows=2, cols=2, subplot_titles=('Backers', 'USD Pledged','USD Goal Real','Duration(days)'))\n",
    "fig.append_trace(trace1, 1, 1)\n",
    "fig.append_trace(trace2, 1, 2)\n",
    "fig.append_trace(trace3, 2, 1)\n",
    "fig.append_trace(trace4, 2, 2)\n",
    "\n",
    "fig['layout'].update(height=600, width=900, title='Distribution according to Main Category of Successful Campaigns')\n",
    "\n",
    "iplot(fig)"
   ]
  },
  {
   "cell_type": "markdown",
   "metadata": {
    "_uuid": "a872c03de69b71e8ca85e2e2991d1ae6a6cce9e3"
   },
   "source": [
    "**Relation between Backers and Pledged Amount(USD)**"
   ]
  },
  {
   "cell_type": "code",
   "execution_count": null,
   "metadata": {
    "_uuid": "a502c6bc6693831746026fe4323ef0925fc4eabb"
   },
   "outputs": [],
   "source": [
    "sns.regplot(x='backers',y='usd pledged', data=successful)"
   ]
  },
  {
   "cell_type": "markdown",
   "metadata": {
    "_uuid": "9b6f5c7b231843419f2a3a640f7a9d1b200f3173"
   },
   "source": [
    "**Relation between Duration(Days) and Pledged Amount(USD)**"
   ]
  },
  {
   "cell_type": "code",
   "execution_count": null,
   "metadata": {
    "_uuid": "0eb82c8ce431b9268a0de10a50e252ae5c310bca"
   },
   "outputs": [],
   "source": [
    "sns.regplot(x='usd pledged',y='duration(days)', data=successful)"
   ]
  },
  {
   "cell_type": "markdown",
   "metadata": {
    "_uuid": "75852191854b6f1e7dbef584977a5d84276436c0"
   },
   "source": [
    "**Success Measure**\n",
    "\n",
    "I have made another column called \"success_measure\" by dividing the Pledged Amount by the Goal of the Campaign which\n",
    "gives an idea of how many times the goal, the pledged amount was. But the issue was a lot of campaigns had weird goals like 10 or amounts such as 200. To consider only serious campaigns I eliminated any campaign whose goal was below the median goal of all the campaigns and after that I got a list of the 10 most successful campaigns in Kickstarter"
   ]
  },
  {
   "cell_type": "code",
   "execution_count": null,
   "metadata": {
    "_uuid": "1ce274abc847f8dcdec7ea086bf37e25b2e8c39c"
   },
   "outputs": [],
   "source": [
    "successful['success_measure'] = successful['usd pledged']/successful['usd_goal_real']\n",
    "successful_cleaned = successful[successful['usd_goal_real']>successful['usd_goal_real'].median()]\n",
    "successful_cleaned.nlargest(10,'success_measure')"
   ]
  },
  {
   "cell_type": "markdown",
   "metadata": {
    "_uuid": "bebd75f433c79889d383d90973d2aae8e62a4769"
   },
   "source": [
    "**Please upvote if you like it and find it useful**"
   ]
  }
 ],
 "metadata": {
  "kernelspec": {
   "display_name": "Python 3",
   "language": "python",
   "name": "python3"
  },
  "language_info": {
   "codemirror_mode": {
    "name": "ipython",
    "version": 3
   },
   "file_extension": ".py",
   "mimetype": "text/x-python",
   "name": "python",
   "nbconvert_exporter": "python",
   "pygments_lexer": "ipython3",
   "version": "3.7.6"
  }
 },
 "nbformat": 4,
 "nbformat_minor": 1
}
